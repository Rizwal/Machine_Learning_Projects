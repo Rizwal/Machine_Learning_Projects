{
 "cells": [
  {
   "cell_type": "markdown",
   "id": "21b44787",
   "metadata": {},
   "source": [
    "# Importing libraries"
   ]
  },
  {
   "cell_type": "code",
   "execution_count": 1,
   "id": "bdc4bb58",
   "metadata": {},
   "outputs": [],
   "source": [
    "import numpy as np\n",
    "import pandas as pd\n",
    "import matplotlib.pyplot as plt\n",
    "\n",
    "import os\n",
    "import cv2\n",
    "\n",
    "from PIL import Image\n",
    "\n",
    "from tensorflow import keras\n",
    "import tensorflow.keras.layers as k\n",
    "from tqdm.notebook import tqdm"
   ]
  },
  {
   "cell_type": "code",
   "execution_count": 2,
   "id": "27c82051",
   "metadata": {},
   "outputs": [],
   "source": [
    "from keras.preprocessing.image import ImageDataGenerator\n",
    "from tensorflow.keras.utils import load_img"
   ]
  },
  {
   "cell_type": "code",
   "execution_count": 3,
   "id": "b80e9382",
   "metadata": {},
   "outputs": [
    {
     "data": {
      "image/png": "[encoded data removed]",
      "text/plain": [
       "<PIL.Image.Image image mode=RGB size=64x64 at 0x20147083F40>"
      ]
     },
     "execution_count": 3,
     "metadata": {},
     "output_type": "execute_result"
    }
   ],
   "source": [
    "load_img(\"R:\\PROJECTS\\DEEP LEARNING PROJS\\Malarial Cell Image Data\\cell_images\\Parasitized\\C33P1thinF_IMG_20150619_114756a_cell_179.png\",target_size=(64,64))"
   ]
  },
  {
   "cell_type": "code",
   "execution_count": 4,
   "id": "dba5cc60",
   "metadata": {},
   "outputs": [
    {
     "data": {
      "image/png": "[encoded data removed]",
      "text/plain": [
       "<PIL.PngImagePlugin.PngImageFile image mode=RGB size=142x163 at 0x2017EAC0340>"
      ]
     },
     "execution_count": 4,
     "metadata": {},
     "output_type": "execute_result"
    }
   ],
   "source": [
    "load_img(\"R:\\PROJECTS\\DEEP LEARNING PROJS\\Malarial Cell Image Data\\cell_images\\Parasitized\\C33P1thinF_IMG_20150619_114756a_cell_179.png\")"
   ]
  },
  {
   "cell_type": "code",
   "execution_count": 5,
   "id": "3784bda7",
   "metadata": {},
   "outputs": [],
   "source": [
    "os.environ['KERAS_BACKEND']='tensorflow'\n",
    "np.random.seed(312)"
   ]
  },
  {
   "cell_type": "code",
   "execution_count": 6,
   "id": "812a465d",
   "metadata": {},
   "outputs": [],
   "source": [
    "image_dir= r'R:\\PROJECTS\\DEEP LEARNING PROJS\\Malarial Cell Image Data\\malarial_cell_image_data\\cell_images\\cell_images'\n",
    "size=64\n",
    "dataset=[]\n",
    "label=[]"
   ]
  },
  {
   "cell_type": "code",
   "execution_count": 7,
   "id": "aeb6e0f5",
   "metadata": {},
   "outputs": [
    {
     "data": {
      "application/vnd.jupyter.widget-view+json": {
       "model_id": "e623104f7c8e4306b62b3bb456318972",
       "version_major": 2,
       "version_minor": 0
      },
      "text/plain": [
       "  0%|          | 0/3000 [00:00<?, ?it/s]"
      ]
     },
     "metadata": {},
     "output_type": "display_data"
    }
   ],
   "source": [
    "parasitized=os.listdir(image_dir+\"\\Parasitized\")\n",
    "parasitized=parasitized[:3000]\n",
    "for i,img_name in enumerate(tqdm(parasitized)):\n",
    "    if(img_name.split('.')[1]=='png'):\n",
    "        image=cv2.imread(image_dir+\"\\Parasitized\"+\"\\\\\"+img_name)\n",
    "        image=Image.fromarray(image,'RGB')\n",
    "        image=image.resize((size,size))\n",
    "        \n",
    "        dataset.append(np.array(image))\n",
    "        label.append(0)"
   ]
  },
  {
   "cell_type": "code",
   "execution_count": 8,
   "id": "543d5c24",
   "metadata": {},
   "outputs": [
    {
     "data": {
      "application/vnd.jupyter.widget-view+json": {
       "model_id": "d56a76836c01449ab8ad4ea02a6d180c",
       "version_major": 2,
       "version_minor": 0
      },
      "text/plain": [
       "  0%|          | 0/3000 [00:00<?, ?it/s]"
      ]
     },
     "metadata": {},
     "output_type": "display_data"
    }
   ],
   "source": [
    "uninfected=os.listdir(image_dir+'\\\\noninfected')\n",
    "uninfected=uninfected[:3000]\n",
    "\n",
    "for i,img_name in enumerate(tqdm(uninfected)):\n",
    "    if(img_name.split('.')[1]=='png'):\n",
    "        image=cv2.imread(image_dir+'\\\\noninfected'+'\\\\'+img_name)\n",
    "        image=Image.fromarray(image,'RGB')\n",
    "        image=image.resize((size,size))\n",
    "        \n",
    "        dataset.append(np.array(image))\n",
    "        label.append(1)"
   ]
  },
  {
   "cell_type": "code",
   "execution_count": 9,
   "id": "a8701852",
   "metadata": {},
   "outputs": [
    {
     "data": {
      "text/plain": [
       "3000"
      ]
     },
     "execution_count": 9,
     "metadata": {},
     "output_type": "execute_result"
    }
   ],
   "source": [
    "len(parasitized)"
   ]
  },
  {
   "cell_type": "code",
   "execution_count": 10,
   "id": "d46c6fe3",
   "metadata": {},
   "outputs": [
    {
     "data": {
      "text/plain": [
       "3000"
      ]
     },
     "execution_count": 10,
     "metadata": {},
     "output_type": "execute_result"
    }
   ],
   "source": [
    "len(uninfected)    "
   ]
  },
  {
   "cell_type": "code",
   "execution_count": 12,
   "id": "a4069748",
   "metadata": {},
   "outputs": [],
   "source": [
    "from sklearn.model_selection import train_test_split\n",
    "from keras.utils import to_categorical\n",
    "\n",
    "xtrain,xtest,ytrain,ytest=train_test_split(dataset,to_categorical(np.array(label)),test_size=0.2,random_state=0)"
   ]
  },
  {
   "cell_type": "code",
   "execution_count": 15,
   "id": "84689b9e",
   "metadata": {},
   "outputs": [
    {
     "data": {
      "text/plain": [
       "4800"
      ]
     },
     "execution_count": 15,
     "metadata": {},
     "output_type": "execute_result"
    }
   ],
   "source": [
    "len(xtrain)"
   ]
  },
  {
   "cell_type": "markdown",
   "id": "8e93abf6",
   "metadata": {},
   "source": [
    "# CNN MODEL"
   ]
  },
  {
   "cell_type": "code",
   "execution_count": 17,
   "id": "0b3afe69",
   "metadata": {},
   "outputs": [],
   "source": [
    "INPUT_SHAPE=(size,size,3)\n",
    "input=k.Input(shape=INPUT_SHAPE)\n",
    "\n",
    "conv1=k.Conv2D(32,kernel_size=(3,3),activation=\"relu\",padding=\"same\")(input)\n",
    "pool1=k.MaxPool2D(pool_size=(2,2))(conv1)\n",
    "norm1=k.BatchNormalization(axis=-1)(pool1)\n",
    "drop1=k.Dropout(rate=0.2)(norm1)\n",
    "\n",
    "conv2=k.Conv2D(32,kernel_size=(3,3),activation=\"relu\",padding=\"same\")(drop1)\n",
    "pool2=k.MaxPool2D(pool_size=(2,2))(conv2)\n",
    "norm2=k.BatchNormalization(axis=-1)(pool2)\n",
    "drop2=k.Dropout(rate=0.2)(norm2)\n",
    "\n",
    "flat=k.Flatten()(drop2)\n",
    "\n",
    "hidden1=k.Dense(512,activation=\"relu\")(flat)\n",
    "norm3=k.BatchNormalization(axis=-1)(hidden1)\n",
    "drop3=k.Dropout(rate=0.2)(norm3)\n",
    "\n",
    "hidden2=k.Dense(256,activation=\"relu\")(drop3)\n",
    "norm4=k.BatchNormalization(axis=-1)(hidden2)\n",
    "drop4=k.Dropout(rate=0.2)(norm4)\n",
    "\n",
    "out=k.Dense(2,activation='sigmoid')(drop4)\n"
   ]
  },
  {
   "cell_type": "code",
   "execution_count": 25,
   "id": "96d336e8",
   "metadata": {},
   "outputs": [
    {
     "name": "stdout",
     "output_type": "stream",
     "text": [
      "Model: \"model_3\"\n",
      "_________________________________________________________________\n",
      " Layer (type)                Output Shape              Param #   \n",
      "=================================================================\n",
      " input_2 (InputLayer)        [(None, 64, 64, 3)]       0         \n",
      "                                                                 \n",
      " conv2d_2 (Conv2D)           (None, 64, 64, 32)        896       \n",
      "                                                                 \n",
      " max_pooling2d_2 (MaxPooling  (None, 32, 32, 32)       0         \n",
      " 2D)                                                             \n",
      "                                                                 \n",
      " batch_normalization_3 (Batc  (None, 32, 32, 32)       128       \n",
      " hNormalization)                                                 \n",
      "                                                                 \n",
      " dropout_3 (Dropout)         (None, 32, 32, 32)        0         \n",
      "                                                                 \n",
      " conv2d_3 (Conv2D)           (None, 32, 32, 32)        9248      \n",
      "                                                                 \n",
      " max_pooling2d_3 (MaxPooling  (None, 16, 16, 32)       0         \n",
      " 2D)                                                             \n",
      "                                                                 \n",
      " batch_normalization_4 (Batc  (None, 16, 16, 32)       128       \n",
      " hNormalization)                                                 \n",
      "                                                                 \n",
      " dropout_4 (Dropout)         (None, 16, 16, 32)        0         \n",
      "                                                                 \n",
      " flatten_1 (Flatten)         (None, 8192)              0         \n",
      "                                                                 \n",
      " dense_1 (Dense)             (None, 512)               4194816   \n",
      "                                                                 \n",
      " batch_normalization_5 (Batc  (None, 512)              2048      \n",
      " hNormalization)                                                 \n",
      "                                                                 \n",
      " dropout_5 (Dropout)         (None, 512)               0         \n",
      "                                                                 \n",
      " dense_2 (Dense)             (None, 256)               131328    \n",
      "                                                                 \n",
      " batch_normalization_6 (Batc  (None, 256)              1024      \n",
      " hNormalization)                                                 \n",
      "                                                                 \n",
      " dropout_6 (Dropout)         (None, 256)               0         \n",
      "                                                                 \n",
      " dense_3 (Dense)             (None, 2)                 514       \n",
      "                                                                 \n",
      "=================================================================\n",
      "Total params: 4,340,130\n",
      "Trainable params: 4,338,466\n",
      "Non-trainable params: 1,664\n",
      "_________________________________________________________________\n",
      "None\n"
     ]
    }
   ],
   "source": [
    "model=keras.Model(inputs=input,outputs=out)\n",
    "model.compile(optimizer='adam',loss='categorical_crossentropy',metrics=['accuracy'])\n",
    "\n",
    "print(model.summary())"
   ]
  },
  {
   "cell_type": "code",
   "execution_count": 26,
   "id": "5e85315d",
   "metadata": {},
   "outputs": [
    {
     "name": "stdout",
     "output_type": "stream",
     "text": [
      "Epoch 1/5\n",
      "68/68 [==============================] - 28s 380ms/step - loss: 0.7314 - accuracy: 0.6845 - val_loss: 1.4750 - val_accuracy: 0.6896\n",
      "Epoch 2/5\n",
      "68/68 [==============================] - 25s 368ms/step - loss: 0.4413 - accuracy: 0.8016 - val_loss: 2.0394 - val_accuracy: 0.5833\n",
      "Epoch 3/5\n",
      "68/68 [==============================] - 24s 354ms/step - loss: 0.3257 - accuracy: 0.8678 - val_loss: 0.3835 - val_accuracy: 0.8500\n",
      "Epoch 4/5\n",
      "68/68 [==============================] - 22s 322ms/step - loss: 0.2131 - accuracy: 0.9171 - val_loss: 2.2689 - val_accuracy: 0.6375\n",
      "Epoch 5/5\n",
      "68/68 [==============================] - 21s 309ms/step - loss: 0.1732 - accuracy: 0.9306 - val_loss: 2.3820 - val_accuracy: 0.6979\n"
     ]
    }
   ],
   "source": [
    "history=model.fit(np.array(xtrain),ytrain,\n",
    "                 batch_size=64,\n",
    "                 verbose=1,\n",
    "                 epochs=5,\n",
    "                 validation_split=0.1,\n",
    "                 shuffle=False)"
   ]
  },
  {
   "cell_type": "code",
   "execution_count": 35,
   "id": "f0e2b3f3",
   "metadata": {},
   "outputs": [
    {
     "name": "stdout",
     "output_type": "stream",
     "text": [
      "38/38 [==============================] - 2s 39ms/step - loss: 2.2559 - accuracy: 0.6958\n",
      "69.58%\n"
     ]
    }
   ],
   "source": [
    "    print(\"{:.2f}%\".format(model.evaluate(np.array(xtest),np.array(ytest))[1]*100))"
   ]
  },
  {
   "cell_type": "code",
   "execution_count": null,
   "id": "59ed0920",
   "metadata": {},
   "outputs": [],
   "source": []
  }
 ],
 "metadata": {
  "kernelspec": {
   "display_name": "Python 3 (ipykernel)",
   "language": "python",
   "name": "python3"
  },
  "language_info": {
   "codemirror_mode": {
    "name": "ipython",
    "version": 3
   },
   "file_extension": ".py",
   "mimetype": "text/x-python",
   "name": "python",
   "nbconvert_exporter": "python",
   "pygments_lexer": "ipython3",
   "version": "3.10.0"
  }
 },
 "nbformat": 4,
 "nbformat_minor": 5
}
